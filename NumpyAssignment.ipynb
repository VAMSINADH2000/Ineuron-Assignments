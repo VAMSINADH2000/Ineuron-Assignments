{
 "cells": [
  {
   "cell_type": "code",
   "execution_count": 9,
   "metadata": {},
   "outputs": [],
   "source": [
    "import numpy as np"
   ]
  },
  {
   "cell_type": "markdown",
   "metadata": {},
   "source": [
    "#### Problem Statement 1: \n",
    " Write a function so that the columns of the output matrix are powers of the input vector. \n",
    " The order of the powers is determined by the increasing boolean argument. Specifically, when  increasing is False, the i-th output column is the input vector raised element-wise to the power  of N - i - 1. \n",
    " HINT: Such a matrix with a geometric progression in each row is named for Alexandre Theophile Vandermonde. \n"
   ]
  },
  {
   "cell_type": "code",
   "execution_count": 5,
   "metadata": {},
   "outputs": [],
   "source": [
    "def vander(arr, N, increasing):\n",
    "    import numpy as np\n",
    "    length = len(arr)\n",
    "    arr = np.array(arr).reshape(length, 1)\n",
    "    result = np.zeros((length, N), dtype='int64')\n",
    "    result = result + arr\n",
    "    power = []\n",
    "    for i in range(N):\n",
    "        power.append(N-i-1)\n",
    "    if increasing:\n",
    "        power = list(reversed(power))\n",
    "    power = np.array(power)\n",
    "    result = result ** power\n",
    "    return result"
   ]
  },
  {
   "cell_type": "code",
   "execution_count": 6,
   "metadata": {},
   "outputs": [
    {
     "name": "stdout",
     "output_type": "stream",
     "text": [
      "[[ 1  1  1  1]\n",
      " [ 1  2  4  8]\n",
      " [ 1  3  9 27]\n",
      " [ 1  4 16 64]]\n"
     ]
    }
   ],
   "source": [
    "arr = [1,2,3,4]\n",
    "\n",
    "print(vander(arr, 4, True))\n",
    "\n",
    "\n"
   ]
  },
  {
   "cell_type": "markdown",
   "metadata": {},
   "source": [
    "#### Problem Statement 2: \n",
    "Given a sequence of n values x1, x2, ..., xn and a window size k>0, the k-th moving average of  the given sequence is defined as follows: \n",
    "The moving average sequence has n-k+1 elements as shown below. \n",
    "The moving averages with k=4 of a ten-value sequence (n=10) is shown below \n",
    "i 1 2 3 4 5 6 7 8 9 10 \n",
    "===== == == == == == == == == == == \n",
    "Input 10 20 30 40 50 60 70 80 90 100  \n",
    "y1 25 = (10+20+30+40)/4 \n",
    "y2 35 = (20+30+40+50)/4 \n",
    "y3 45 = (30+40+50+60)/4 \n",
    "y4 55 = (40+50+60+70)/4 \n",
    "y5 65 = (50+60+70+80)/4 \n",
    "y6 75 = (60+70+80+90)/4 \n",
    "y7 85 = (70+80+90+100)/4 \n",
    "\n",
    "\n",
    "Question: Write a function to find moving average in an array over a window:  Test it over [3, 5, 7, 2, 8, 10, 11, 65, 72, 81, 99, 100, 150] and window of 3. \n"
   ]
  },
  {
   "cell_type": "code",
   "execution_count": null,
   "metadata": {},
   "outputs": [],
   "source": []
  },
  {
   "cell_type": "code",
   "execution_count": 38,
   "metadata": {},
   "outputs": [],
   "source": [
    "def moving_avarages(a,k):\n",
    "    p = len(a)-k+1\n",
    "    for i in range(p):\n",
    "        print(f'y{i+1}:',np.mean(a[:k]))\n",
    "        del a[0]\n",
    "    "
   ]
  },
  {
   "cell_type": "code",
   "execution_count": 39,
   "metadata": {},
   "outputs": [],
   "source": [
    "a = [3, 5, 7, 2, 8, 10, 11, 65, 72, 81, 99, 100, 150]"
   ]
  },
  {
   "cell_type": "code",
   "execution_count": 40,
   "metadata": {},
   "outputs": [
    {
     "name": "stdout",
     "output_type": "stream",
     "text": [
      "y1: 5.0\n",
      "y2: 4.666666666666667\n",
      "y3: 5.666666666666667\n",
      "y4: 6.666666666666667\n",
      "y5: 9.666666666666666\n",
      "y6: 28.666666666666668\n",
      "y7: 49.333333333333336\n",
      "y8: 72.66666666666667\n",
      "y9: 84.0\n",
      "y10: 93.33333333333333\n",
      "y11: 116.33333333333333\n"
     ]
    }
   ],
   "source": [
    "moving_avarages(a,3)"
   ]
  },
  {
   "cell_type": "code",
   "execution_count": null,
   "metadata": {},
   "outputs": [],
   "source": []
  }
 ],
 "metadata": {
  "kernelspec": {
   "display_name": "Python 3",
   "language": "python",
   "name": "python3"
  },
  "language_info": {
   "codemirror_mode": {
    "name": "ipython",
    "version": 3
   },
   "file_extension": ".py",
   "mimetype": "text/x-python",
   "name": "python",
   "nbconvert_exporter": "python",
   "pygments_lexer": "ipython3",
   "version": "3.7.4"
  }
 },
 "nbformat": 4,
 "nbformat_minor": 2
}
